{
 "cells": [
  {
   "cell_type": "code",
   "execution_count": 2,
   "metadata": {},
   "outputs": [],
   "source": [
    "import pandas as pd\n",
    "import requests as rq\n",
    "import json\n",
    "from jenkinsapi.jenkins import Jenkins"
   ]
  },
  {
   "cell_type": "code",
   "execution_count": 7,
   "metadata": {},
   "outputs": [
    {
     "name": "stdout",
     "output_type": "stream",
     "text": [
      "<class 'jenkinsapi.jenkins.Jenkins'>\n"
     ]
    }
   ],
   "source": [
    "#j = Jenkins(\"http://localhost.com\", \"admin\", \"p\")\n",
    "print(Jenkins)"
   ]
  },
  {
   "cell_type": "code",
   "execution_count": 2,
   "metadata": {},
   "outputs": [],
   "source": [
    "symbols = ['ABBV', 'ABC', 'ALL', 'BC', 'BERY', 'BIO', 'BMY', 'CIEN', 'CMC', 'DKS', 'EQH', 'HUM', 'INT', 'LAD', 'LEN', 'LRCX', 'NOK', 'STAG', 'TPX', 'UNH', 'VIAC', 'WPC']"
   ]
  },
  {
   "cell_type": "markdown",
   "metadata": {},
   "source": [
    "# Fundamentals"
   ]
  },
  {
   "cell_type": "code",
   "execution_count": 3,
   "metadata": {},
   "outputs": [],
   "source": [
    "stocks_fundamentals = []\n",
    "for s in symbols:\n",
    "    res = rq.get(\"https://eodhistoricaldata.com/api/fundamentals/\"+s+\"?api_token=&fmt=csv\")\n",
    "    if res.status_code != 200:\n",
    "        print(f'Unable to find {s}')\n",
    "        continue\n",
    "        \n",
    "    res = json.loads(res.content)\n",
    "    stocks_fundamentals.append(res)\n",
    "    "
   ]
  },
  {
   "cell_type": "code",
   "execution_count": 4,
   "metadata": {},
   "outputs": [
    {
     "name": "stdout",
     "output_type": "stream",
     "text": [
      "Health Care\n",
      "Health Care\n",
      "Financials\n",
      "Consumer Discretionary\n",
      "Materials\n",
      "Health Care\n",
      "Health Care\n",
      "Information Technology\n",
      "Materials\n",
      "Consumer Discretionary\n",
      "Financials\n",
      "Health Care\n",
      "Energy\n",
      "Consumer Discretionary\n",
      "Consumer Discretionary\n",
      "Information Technology\n",
      "Information Technology\n",
      "Real Estate\n",
      "Consumer Discretionary\n",
      "Health Care\n",
      "Communication Services\n",
      "Real Estate\n"
     ]
    }
   ],
   "source": [
    "for s in stocks_fundamentals:\n",
    "    print(s['General']['GicSector'])"
   ]
  },
  {
   "cell_type": "markdown",
   "metadata": {},
   "source": [
    "# Get pricing target"
   ]
  },
  {
   "cell_type": "code",
   "execution_count": 11,
   "metadata": {},
   "outputs": [
    {
     "name": "stdout",
     "output_type": "stream",
     "text": [
      "{'symbol': 'ABBV', 'max_price_target': 127.0, 'avg_price_target': 109.0, 'min_price_target': 95.0, 'current_price': 94.17}\n",
      "{'symbol': 'ABC', 'max_price_target': 127.0, 'avg_price_target': 114.2, 'min_price_target': 98.0, 'current_price': 97.55}\n",
      "{'symbol': 'ALL', 'max_price_target': 135.0, 'avg_price_target': 122.4, 'min_price_target': 101.0, 'current_price': 94.3}\n",
      "{'symbol': 'BC', 'max_price_target': 88.0, 'avg_price_target': 68.75, 'min_price_target': 37.0, 'current_price': 62.1}\n",
      "{'symbol': 'BERY', 'max_price_target': 65.0, 'avg_price_target': 60.666666666666664, 'min_price_target': 55.0, 'current_price': 52.48}\n",
      "{'symbol': 'BIO', 'max_price_target': 625.0, 'avg_price_target': 565.0, 'min_price_target': 430.0, 'current_price': 498.84}\n",
      "{'symbol': 'BMY', 'max_price_target': 80.0, 'avg_price_target': 68.9, 'min_price_target': 50.0, 'current_price': 62.37}\n",
      "{'symbol': 'CIEN', 'max_price_target': 73.0, 'avg_price_target': 59.666666666666664, 'min_price_target': 31.0, 'current_price': 56.03}\n",
      "{'symbol': 'CMC', 'max_price_target': 25.0, 'avg_price_target': 21.375, 'min_price_target': 17.0, 'current_price': 21.59}\n",
      "{'symbol': 'DKS', 'max_price_target': 71.0, 'avg_price_target': 57.0, 'min_price_target': 27.0, 'current_price': 53.16}\n",
      "{'symbol': 'EQH', 'max_price_target': 29.0, 'avg_price_target': 25.0, 'min_price_target': 21.0, 'current_price': 21.61}\n",
      "{'symbol': 'HUM', 'max_price_target': 510.0, 'avg_price_target': 438.3181818181818, 'min_price_target': 350.0, 'current_price': 408.04}\n",
      "{'symbol': 'INT', 'max_price_target': 36.0, 'avg_price_target': 30.0, 'min_price_target': 24.0, 'current_price': 27.33}\n",
      "{'symbol': 'LAD', 'max_price_target': 280.0, 'avg_price_target': 212.25, 'min_price_target': 110.0, 'current_price': 247.57}\n",
      "{'symbol': 'LEN', 'max_price_target': 88.0, 'avg_price_target': 71.46428571428571, 'min_price_target': 48.0, 'current_price': 75.93}\n",
      "{'symbol': 'LRCX', 'max_price_target': 450.0, 'avg_price_target': 383.22727272727275, 'min_price_target': 250.0, 'current_price': 350.78}\n",
      "{'symbol': 'NOK', 'max_price_target': 6.5, 'avg_price_target': 4.727272727272727, 'min_price_target': 2.9, 'current_price': 4.97}\n",
      "{'symbol': 'STAG', 'max_price_target': 36.0, 'avg_price_target': 34.25, 'min_price_target': 32.0, 'current_price': 32.53}\n",
      "{'symbol': 'TPX', 'max_price_target': 125.0, 'avg_price_target': 98.125, 'min_price_target': 82.0, 'current_price': 86.19}\n",
      "{'symbol': 'UNH', 'max_price_target': 384.0, 'avg_price_target': 344.0869565217391, 'min_price_target': 285.0, 'current_price': 314.37}\n",
      "{'symbol': 'VIAC', 'max_price_target': 45.0, 'avg_price_target': 29.19047619047619, 'min_price_target': 10.0, 'current_price': 27.99}\n",
      "{'symbol': 'WPC', 'max_price_target': 85.0, 'avg_price_target': 72.0, 'min_price_target': 52.0, 'current_price': 71.72}\n",
      "[{'symbol': 'ABBV', 'max_price_target': 127.0, 'avg_price_target': 109.0, 'min_price_target': 95.0, 'current_price': 94.17}, {'symbol': 'ABC', 'max_price_target': 127.0, 'avg_price_target': 114.2, 'min_price_target': 98.0, 'current_price': 97.55}, {'symbol': 'ALL', 'max_price_target': 135.0, 'avg_price_target': 122.4, 'min_price_target': 101.0, 'current_price': 94.3}, {'symbol': 'BC', 'max_price_target': 88.0, 'avg_price_target': 68.75, 'min_price_target': 37.0, 'current_price': 62.1}, {'symbol': 'BERY', 'max_price_target': 65.0, 'avg_price_target': 60.666666666666664, 'min_price_target': 55.0, 'current_price': 52.48}, {'symbol': 'BIO', 'max_price_target': 625.0, 'avg_price_target': 565.0, 'min_price_target': 430.0, 'current_price': 498.84}, {'symbol': 'BMY', 'max_price_target': 80.0, 'avg_price_target': 68.9, 'min_price_target': 50.0, 'current_price': 62.37}, {'symbol': 'CIEN', 'max_price_target': 73.0, 'avg_price_target': 59.666666666666664, 'min_price_target': 31.0, 'current_price': 56.03}, {'symbol': 'CMC', 'max_price_target': 25.0, 'avg_price_target': 21.375, 'min_price_target': 17.0, 'current_price': 21.59}, {'symbol': 'DKS', 'max_price_target': 71.0, 'avg_price_target': 57.0, 'min_price_target': 27.0, 'current_price': 53.16}, {'symbol': 'EQH', 'max_price_target': 29.0, 'avg_price_target': 25.0, 'min_price_target': 21.0, 'current_price': 21.61}, {'symbol': 'HUM', 'max_price_target': 510.0, 'avg_price_target': 438.3181818181818, 'min_price_target': 350.0, 'current_price': 408.04}, {'symbol': 'INT', 'max_price_target': 36.0, 'avg_price_target': 30.0, 'min_price_target': 24.0, 'current_price': 27.33}, {'symbol': 'LAD', 'max_price_target': 280.0, 'avg_price_target': 212.25, 'min_price_target': 110.0, 'current_price': 247.57}, {'symbol': 'LEN', 'max_price_target': 88.0, 'avg_price_target': 71.46428571428571, 'min_price_target': 48.0, 'current_price': 75.93}, {'symbol': 'LRCX', 'max_price_target': 450.0, 'avg_price_target': 383.22727272727275, 'min_price_target': 250.0, 'current_price': 350.78}, {'symbol': 'NOK', 'max_price_target': 6.5, 'avg_price_target': 4.727272727272727, 'min_price_target': 2.9, 'current_price': 4.97}, {'symbol': 'STAG', 'max_price_target': 36.0, 'avg_price_target': 34.25, 'min_price_target': 32.0, 'current_price': 32.53}, {'symbol': 'TPX', 'max_price_target': 125.0, 'avg_price_target': 98.125, 'min_price_target': 82.0, 'current_price': 86.19}, {'symbol': 'UNH', 'max_price_target': 384.0, 'avg_price_target': 344.0869565217391, 'min_price_target': 285.0, 'current_price': 314.37}, {'symbol': 'VIAC', 'max_price_target': 45.0, 'avg_price_target': 29.19047619047619, 'min_price_target': 10.0, 'current_price': 27.99}, {'symbol': 'WPC', 'max_price_target': 85.0, 'avg_price_target': 72.0, 'min_price_target': 52.0, 'current_price': 71.72}]\n"
     ]
    }
   ],
   "source": [
    "price_targets = []\n",
    "for s in symbols:\n",
    "    symbol = s\n",
    "    signal = None\n",
    "    max_price_target = None\n",
    "    avg_price_target = None\n",
    "    min_price_target = None\n",
    "    last_updated = None\n",
    "\n",
    "    req = rq.get(f'https://bank.tipranks.com/api/stocks/getData/{symbol}/?benchmark=1&period=1')\n",
    "    if req.status_code != 200:\n",
    "        print(f'Unable to get info for {symbol}')\n",
    "        continue\n",
    "        \n",
    "    info = req.json()\n",
    "    \n",
    "    price_target_counter = 0\n",
    "    best_analyst_rating = 0\n",
    "    for e in info['experts']:\n",
    "        pt = e['ratings'][0]['priceTarget']\n",
    "        if pt is None:\n",
    "            continue\n",
    "            \n",
    "        # avg price target\n",
    "        price_target_counter += 1\n",
    "        if avg_price_target is None:\n",
    "            avg_price_target = pt\n",
    "        else:\n",
    "            avg_price_target += pt\n",
    "            \n",
    "        # min price target\n",
    "        if min_price_target is None:\n",
    "            min_price_target = pt\n",
    "        else:\n",
    "            if pt < min_price_target:\n",
    "                min_price_target = pt\n",
    "        \n",
    "        # max price target\n",
    "        if max_price_target is None:\n",
    "            max_price_target = pt\n",
    "        else:\n",
    "            if pt > max_price_target:\n",
    "                max_price_target = pt\n",
    "    \n",
    "    \n",
    "    avg_price_target = avg_price_target / price_target_counter\n",
    "    current_price = info['prices'][-1]['p']\n",
    "    \n",
    "    result = {'symbol': symbol, 'max_price_target': max_price_target, 'avg_price_target': avg_price_target, 'min_price_target': min_price_target, 'current_price': current_price}\n",
    "    price_targets.append(result)\n",
    "    print(result)\n",
    "print(price_targets)"
   ]
  },
  {
   "cell_type": "markdown",
   "metadata": {},
   "source": [
    "## Merge with fundamentals"
   ]
  },
  {
   "cell_type": "code",
   "execution_count": 8,
   "metadata": {},
   "outputs": [],
   "source": [
    "for s in price_targets:\n",
    "    for f in stocks_fundamentals:\n",
    "        if s['symbol'] == f['General']['Code']:\n",
    "            s['GicSector'] = f['General']['GicSector']"
   ]
  },
  {
   "cell_type": "code",
   "execution_count": 9,
   "metadata": {},
   "outputs": [
    {
     "name": "stdout",
     "output_type": "stream",
     "text": [
      "   symbol  max_price_target  avg_price_target  min_price_target  \\\n",
      "0    ABBV             127.0        109.000000              95.0   \n",
      "1     ABC             127.0        114.200000              98.0   \n",
      "2     ALL             135.0        122.400000             101.0   \n",
      "3      BC              88.0         68.750000              37.0   \n",
      "4    BERY              65.0         60.666667              55.0   \n",
      "5     BIO             625.0        565.000000             430.0   \n",
      "6     BMY              80.0         68.900000              50.0   \n",
      "7    CIEN              73.0         59.666667              31.0   \n",
      "8     CMC              25.0         21.375000              17.0   \n",
      "9     DKS              71.0         57.000000              27.0   \n",
      "10    EQH              29.0         25.000000              21.0   \n",
      "11    HUM             510.0        438.318182             350.0   \n",
      "12    INT              36.0         30.000000              24.0   \n",
      "13    LAD             280.0        212.250000             110.0   \n",
      "14    LEN              88.0         71.464286              48.0   \n",
      "15   LRCX             450.0        383.227273             250.0   \n",
      "16    NOK               6.5          4.727273               2.9   \n",
      "17   STAG              36.0         34.250000              32.0   \n",
      "18    TPX             125.0         98.125000              82.0   \n",
      "19    UNH             384.0        344.086957             285.0   \n",
      "20   VIAC              45.0         29.190476              10.0   \n",
      "21    WPC              85.0         72.000000              52.0   \n",
      "\n",
      "    current_price               GicSector  \n",
      "0           94.17             Health Care  \n",
      "1           97.55             Health Care  \n",
      "2           94.30              Financials  \n",
      "3           62.10  Consumer Discretionary  \n",
      "4           52.48               Materials  \n",
      "5          498.84             Health Care  \n",
      "6           62.37             Health Care  \n",
      "7           56.03  Information Technology  \n",
      "8           21.59               Materials  \n",
      "9           53.16  Consumer Discretionary  \n",
      "10          21.61              Financials  \n",
      "11         408.04             Health Care  \n",
      "12          27.33                  Energy  \n",
      "13         247.57  Consumer Discretionary  \n",
      "14          75.93  Consumer Discretionary  \n",
      "15         350.78  Information Technology  \n",
      "16           4.97  Information Technology  \n",
      "17          32.53             Real Estate  \n",
      "18          86.19  Consumer Discretionary  \n",
      "19         314.37             Health Care  \n",
      "20          27.99  Communication Services  \n",
      "21          71.72             Real Estate  \n"
     ]
    }
   ],
   "source": [
    "df = pd.DataFrame().from_dict(price_targets)\n",
    "print(df)"
   ]
  },
  {
   "cell_type": "code",
   "execution_count": 10,
   "metadata": {},
   "outputs": [],
   "source": [
    "df.to_csv('seeking_alpha_analysis.csv')"
   ]
  },
  {
   "cell_type": "code",
   "execution_count": null,
   "metadata": {},
   "outputs": [],
   "source": []
  }
 ],
 "metadata": {
  "kernelspec": {
   "display_name": "Python 3",
   "language": "python",
   "name": "python3"
  },
  "language_info": {
   "codemirror_mode": {
    "name": "ipython",
    "version": 3
   },
   "file_extension": ".py",
   "mimetype": "text/x-python",
   "name": "python",
   "nbconvert_exporter": "python",
   "pygments_lexer": "ipython3",
   "version": "3.7.5"
  }
 },
 "nbformat": 4,
 "nbformat_minor": 4
}
